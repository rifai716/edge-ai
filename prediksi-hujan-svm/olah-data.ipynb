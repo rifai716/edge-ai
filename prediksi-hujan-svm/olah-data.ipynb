{
 "cells": [
  {
   "cell_type": "code",
   "execution_count": null,
   "metadata": {},
   "outputs": [],
   "source": [
    "# Import necessary libraries\n",
    "import pandas as pd\n",
    "import matplotlib.pyplot as plt\n",
    "import numpy as np\n",
    "\n",
    "# Load the dataset from the CSV file\n",
    "data = pd.read_csv('output.csv')\n",
    "\n",
    "# Display the first few rows of the dataset\n",
    "data.head()\n",
    "\n",
    "# Plotting comparison between Python execution time and Arduino execution time\n",
    "\n",
    "# Create a figure and axis\n",
    "fig, ax = plt.subplots(figsize=(10, 6))\n",
    "\n",
    "# Plot the execution times for Python and Arduino\n",
    "ax.plot(data['Data ke'], data['Execution Time'], label='Python Execution Time', marker='o', linestyle='-', color='b')\n",
    "ax.plot(data['Data ke'], data['Arduino Execution Time'], label='Arduino Execution Time', marker='o', linestyle='-', color='r')\n",
    "\n",
    "# Set labels for the axes and title\n",
    "ax.set_xlabel('Data ke', fontsize=14)\n",
    "ax.set_ylabel('Execution Time (seconds)', fontsize=14)\n",
    "ax.set_title('Comparison of Execution Time: Python vs Arduino', fontsize=16)\n",
    "\n",
    "# Display the legend\n",
    "ax.legend()\n",
    "\n",
    "# Show the plot\n",
    "plt.grid(True)\n",
    "plt.show()"
   ]
  }
 ],
 "metadata": {
  "language_info": {
   "name": "python"
  }
 },
 "nbformat": 4,
 "nbformat_minor": 2
}
