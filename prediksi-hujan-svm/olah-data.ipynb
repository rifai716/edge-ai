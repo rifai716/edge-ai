{
 "cells": [
  {
   "cell_type": "code",
   "execution_count": null,
   "metadata": {},
   "outputs": [],
   "source": [
    "# Import necessary libraries\n",
    "import pandas as pd\n",
    "import matplotlib.pyplot as plt\n",
    "import numpy as np\n",
    "\n",
    "# Load the dataset from the CSV file\n",
    "data = pd.read_csv('output.csv')\n",
    "\n",
    "# Display the first few rows of the dataset\n",
    "data.head()\n",
    "\n",
    "# Plotting comparison between Python execution time and ESP32 execution time\n",
    "\n",
    "# Create a figure and axis\n",
    "fig, ax = plt.subplots(figsize=(10, 6))\n",
    "\n",
    "# Plot the execution times for Python and ESP32\n",
    "ax.plot(data['Data ke'], data['Execution Time'], label='Python Execution Time', marker='o', linestyle='-', color='b')\n",
    "ax.plot(data['Data ke'], data['Arduino Execution Time'], label='ESP32 Execution Time', marker='o', linestyle='-', color='r')\n",
    "\n",
    "# Set labels for the axes and title\n",
    "ax.set_xlabel('Data ke', fontsize=14)\n",
    "ax.set_ylabel('Execution Time (milliseconds)', fontsize=14)\n",
    "ax.set_title('Comparison of Execution Time: Python vs ESP32', fontsize=16)\n",
    "\n",
    "# Display the legend\n",
    "ax.legend()\n",
    "\n",
    "# Show the plot\n",
    "plt.grid(True)\n",
    "plt.show()"
   ]
  },
  {
   "cell_type": "code",
   "execution_count": null,
   "metadata": {},
   "outputs": [],
   "source": [
    "# Load the dataset from the CSV file\n",
    "data = pd.read_csv('output.csv')\n",
    "\n",
    "# Create a figure and axis\n",
    "fig, ax1 = plt.subplots(figsize=(12, 6))\n",
    "\n",
    "# Plot the execution times for Python on the left y-axis\n",
    "color = 'tab:blue'\n",
    "ax1.set_xlabel('Data ke', fontsize=14)\n",
    "ax1.set_ylabel('Python Execution Time (milliseconds)', fontsize=14, color=color)\n",
    "ax1.plot(data['Data ke'], data['Execution Time'], label='Python Execution Time', marker='o', linestyle='-', color=color)\n",
    "ax1.tick_params(axis='y', labelcolor=color)\n",
    "ax1.legend(loc='upper left')\n",
    "\n",
    "# Create a second y-axis that shares the same x-axis\n",
    "ax2 = ax1.twinx()\n",
    "color = 'tab:red'\n",
    "ax2.set_ylabel('ESP32 Execution Time (milliseconds)', fontsize=14, color=color)\n",
    "ax2.plot(data['Data ke'], data['Arduino Execution Time'], label='ESP32 Execution Time', marker='o', linestyle='-', color=color)\n",
    "ax2.tick_params(axis='y', labelcolor=color)\n",
    "ax2.legend(loc='upper right')\n",
    "\n",
    "# Set title and grid\n",
    "plt.title('Comparison of Execution Time: Python vs ESP32', fontsize=16)\n",
    "ax1.grid(True)\n",
    "\n",
    "# Show the plot\n",
    "plt.show()"
   ]
  },
  {
   "cell_type": "code",
   "execution_count": null,
   "metadata": {},
   "outputs": [],
   "source": [
    "\n",
    "# Membaca file CSV\n",
    "df = pd.read_csv('output-server only.csv')\n",
    "\n",
    "# Menampilkan 5 baris pertama dari data\n",
    "print(df.head())\n",
    "\n",
    "# Membuat grafik waktu eksekusi berdasarkan 'Data ke' dan 'Execution Time'\n",
    "plt.figure(figsize=(10, 6))\n",
    "plt.plot(df['Data ke'], df['Execution Time'], marker='o', linestyle='-', color='b')\n",
    "\n",
    "# Memberikan judul dan label pada sumbu\n",
    "plt.title('Grafik Waktu Eksekusi Berdasarkan Data ke', fontsize=16)\n",
    "plt.xlabel('Data ke', fontsize=14)\n",
    "plt.ylabel('Execution Time (ms)', fontsize=14)\n",
    "\n",
    "# Menampilkan grid dan grafik\n",
    "plt.grid(True)\n",
    "plt.show()"
   ]
  }
 ],
 "metadata": {
  "kernelspec": {
   "display_name": "vir",
   "language": "python",
   "name": "python3"
  },
  "language_info": {
   "codemirror_mode": {
    "name": "ipython",
    "version": 3
   },
   "file_extension": ".py",
   "mimetype": "text/x-python",
   "name": "python",
   "nbconvert_exporter": "python",
   "pygments_lexer": "ipython3",
   "version": "3.12.4"
  }
 },
 "nbformat": 4,
 "nbformat_minor": 2
}
