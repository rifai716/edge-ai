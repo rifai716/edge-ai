{
 "cells": [
  {
   "cell_type": "code",
   "execution_count": 1,
   "metadata": {},
   "outputs": [
    {
     "name": "stdout",
     "output_type": "stream",
     "text": [
      "Akurasi: 100.00%\n",
      "              precision    recall  f1-score   support\n",
      "\n",
      "           0       1.00      1.00      1.00         1\n",
      "           1       1.00      1.00      1.00         1\n",
      "\n",
      "    accuracy                           1.00         2\n",
      "   macro avg       1.00      1.00      1.00         2\n",
      "weighted avg       1.00      1.00      1.00         2\n",
      "\n",
      "   temperature  humidity  wind_speed\n",
      "8           31        68          14\n",
      "1           25        65          12\n"
     ]
    }
   ],
   "source": [
    "import pandas as pd\n",
    "from sklearn.model_selection import train_test_split\n",
    "from sklearn.svm import SVC\n",
    "from sklearn.metrics import classification_report, accuracy_score\n",
    "\n",
    "# Misalkan kita memiliki data sebagai berikut\n",
    "data = {\n",
    "    'temperature': [30, 25, 20, 15, 35, 28, 22, 18, 31, 26],\n",
    "    'humidity': [70, 65, 80, 85, 60, 75, 78, 82, 68, 72],\n",
    "    'wind_speed': [10, 12, 8, 5, 15, 9, 6, 7, 14, 11],\n",
    "    'rain': [1, 0, 1, 0, 1, 1, 0, 0, 1, 0]\n",
    "}\n",
    "\n",
    "# Membuat DataFrame\n",
    "df = pd.DataFrame(data)\n",
    "\n",
    "# Memisahkan fitur (X) dan label (y)\n",
    "X = df[['temperature', 'humidity', 'wind_speed']]\n",
    "y = df['rain']\n",
    "\n",
    "# Membagi data menjadi training dan testing set\n",
    "X_train, X_test, y_train, y_test = train_test_split(X, y, test_size=0.2, random_state=42)\n",
    "\n",
    "# Membuat model SVM dengan kernel linear\n",
    "model = SVC(kernel='linear', gamma=0.001)\n",
    "\n",
    "# Melatih model dengan data training\n",
    "model.fit(X_train, y_train)\n",
    "\n",
    "# Memprediksi data testing\n",
    "y_pred = model.predict(X_test)\n",
    "\n",
    "# Menghitung akurasi\n",
    "accuracy = accuracy_score(y_test, y_pred)\n",
    "print(f'Akurasi: {accuracy * 100:.2f}%')\n",
    "\n",
    "# Menampilkan laporan klasifikasi\n",
    "print(classification_report(y_test, y_pred))\n",
    "print(X_test)"
   ]
  },
  {
   "cell_type": "code",
   "execution_count": 2,
   "metadata": {},
   "outputs": [],
   "source": [
    "from micromlgen import port\n",
    "with open('SVMHujan.h', 'w') as file:\n",
    "    file.write(port(model))"
   ]
  }
 ],
 "metadata": {
  "kernelspec": {
   "display_name": "vir",
   "language": "python",
   "name": "python3"
  },
  "language_info": {
   "codemirror_mode": {
    "name": "ipython",
    "version": 3
   },
   "file_extension": ".py",
   "mimetype": "text/x-python",
   "name": "python",
   "nbconvert_exporter": "python",
   "pygments_lexer": "ipython3",
   "version": "3.12.4"
  }
 },
 "nbformat": 4,
 "nbformat_minor": 2
}
