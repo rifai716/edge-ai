{
 "cells": [
  {
   "cell_type": "code",
   "execution_count": 4,
   "metadata": {
    "tags": [
     "parameters"
    ]
   },
   "outputs": [
    {
     "name": "stdout",
     "output_type": "stream",
     "text": [
      "Prediksi  [12.65 15.45]\n",
      "Mean Squared Error: 49.11\n",
      "Prediksi:  [12.65 15.45]\n",
      "Nilai sebenarnya:  [10 25]\n"
     ]
    }
   ],
   "source": [
    "import pandas as pd\n",
    "import numpy as np\n",
    "from sklearn.model_selection import train_test_split\n",
    "from sklearn.ensemble import RandomForestRegressor\n",
    "from sklearn.metrics import mean_squared_error\n",
    "\n",
    "# Contoh data (Anda bisa mengganti ini dengan data Anda sendiri)\n",
    "data = {\n",
    "    'suhu': [30, 32, 31, 29, 28, 27, 26, 25],\n",
    "    'kelembaban': [70, 65, 80, 75, 85, 90, 60, 50],\n",
    "    'tekanan_udara': [1012, 1010, 1013, 1008, 1011, 1009, 1015, 1014],\n",
    "    'curah_hujan': [5, 10, 0, 20, 15, 25, 0, 0]\n",
    "}\n",
    "\n",
    "# Membuat DataFrame\n",
    "df = pd.DataFrame(data)\n",
    "\n",
    "# Memisahkan fitur dan target\n",
    "X = df.drop('curah_hujan', axis=1)\n",
    "y = df['curah_hujan']\n",
    "\n",
    "# Membagi data menjadi data latih dan data uji\n",
    "X_train, X_test, y_train, y_test = train_test_split(X, y, test_size=0.2, random_state=42)\n",
    "\n",
    "# Membuat model Random Forest\n",
    "model = RandomForestRegressor(n_estimators=100, random_state=42)\n",
    "\n",
    "# Melatih model\n",
    "model.fit(X_train, y_train)\n",
    "\n",
    "# Melakukan prediksi\n",
    "y_pred = model.predict(X_test)\n",
    "\n",
    "print('Prediksi ', y_pred)\n",
    "\n",
    "# Evaluasi model\n",
    "mse = mean_squared_error(y_test, y_pred)\n",
    "print(f'Mean Squared Error: {mse:.2f}')\n",
    "\n",
    "# Menampilkan hasil prediksi dan nilai sebenarnya\n",
    "print('Prediksi: ', y_pred)\n",
    "print('Nilai sebenarnya: ', y_test.values)"
   ]
  },
  {
   "cell_type": "code",
   "execution_count": 2,
   "metadata": {},
   "outputs": [],
   "source": [
    "from micromlgen import port\n",
    "with open('RFHujan.h', 'w') as file:\n",
    "    file.write(port(model))"
   ]
  },
  {
   "cell_type": "code",
   "execution_count": null,
   "metadata": {},
   "outputs": [],
   "source": []
  }
 ],
 "metadata": {
  "kernelspec": {
   "display_name": "vir",
   "language": "python",
   "name": "python3"
  },
  "language_info": {
   "codemirror_mode": {
    "name": "ipython",
    "version": 3
   },
   "file_extension": ".py",
   "mimetype": "text/x-python",
   "name": "python",
   "nbconvert_exporter": "python",
   "pygments_lexer": "ipython3",
   "version": "3.12.4"
  }
 },
 "nbformat": 4,
 "nbformat_minor": 2
}
